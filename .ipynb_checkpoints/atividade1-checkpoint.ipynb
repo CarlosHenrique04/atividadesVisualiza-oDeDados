{
 "cells": [
  {
   "cell_type": "code",
   "execution_count": 19,
   "id": "160396b3-af0d-47f9-be86-fdae7ecaecd1",
   "metadata": {},
   "outputs": [],
   "source": [
    "import pandas as pd\n",
    "import numpy as np\n",
    "from scipy import stats"
   ]
  },
  {
   "cell_type": "code",
   "execution_count": 21,
   "id": "890a0a4a-f0fb-4dec-92aa-ecb507eb00c9",
   "metadata": {},
   "outputs": [],
   "source": [
    "df = pd.read_csv('milse.csv', delimiter=';')\n"
   ]
  },
  {
   "cell_type": "code",
   "execution_count": 23,
   "id": "a0a23062-85e9-4edb-b711-9847cbc46eca",
   "metadata": {},
   "outputs": [
    {
     "name": "stdout",
     "output_type": "stream",
     "text": [
      "   Funcio estadocivil    Instrucao  numerodefilhos salario  idade    regiao\n",
      "0       1    solteiro  fundamental             NaN       4     26  interior\n",
      "1       2      casado  fundamental             1.0    4,56     32   capital\n",
      "2       3      casado  fundamental             2.0    5,25     36   capital\n",
      "3       4    solteiro        medio             NaN    5,73     20     outro\n",
      "4       5    solteiro  fundamental             NaN    6,26     40     outro\n"
     ]
    }
   ],
   "source": [
    "print(df.head())"
   ]
  },
  {
   "cell_type": "raw",
   "id": "b13ed174-0bac-471a-b041-6794d83a6227",
   "metadata": {},
   "source": [
    "\n",
    "\n",
    "1) Classifique as variáveis do arquivo milse em Qualitativas (Nominal e Ordinal) e quantitativa ((Discreta e Contínuas) \n"
   ]
  },
  {
   "cell_type": "code",
   "execution_count": 25,
   "id": "41d94ed3-2277-462c-9647-0b4e0a781703",
   "metadata": {},
   "outputs": [
    {
     "name": "stdout",
     "output_type": "stream",
     "text": [
      "Variáveis Qualitativas Nominal: ['estadocivil', 'Instrucao', 'salario', 'regiao']\n",
      "Variáveis Qualitativas Ordinal: []\n",
      "Variáveis Quantitativas Discreta: ['Funcio', 'idade']\n",
      "Variáveis Quantitativas Contínua: ['numerodefilhos']\n"
     ]
    }
   ],
   "source": [
    "# Função para classificar variáveis\n",
    "def classificar_variaveis(df):\n",
    "    qualitativas_nominal = []\n",
    "    qualitativas_ordinal = []\n",
    "    quantitativas_discreta = []\n",
    "    quantitativas_continua = []\n",
    "\n",
    "    for coluna in df.columns:\n",
    "        if df[coluna].dtype == 'object':\n",
    "            qualitativas_nominal.append(coluna)\n",
    "        elif df[coluna].dtype in ['int64', 'int32']:\n",
    "            quantitativas_discreta.append(coluna)\n",
    "        elif df[coluna].dtype in ['float64', 'float32']:\n",
    "            quantitativas_continua.append(coluna)\n",
    "        # Adicione mais lógica aqui se necessário para identificar variáveis ordinais\n",
    "\n",
    "    return qualitativas_nominal, qualitativas_ordinal, quantitativas_discreta, quantitativas_continua\n",
    "\n",
    "# Classificando as variáveis\n",
    "qualitativas_nominal, qualitativas_ordinal, quantitativas_discreta, quantitativas_continua = classificar_variaveis(df)\n",
    "\n",
    "print(\"Variáveis Qualitativas Nominal:\", qualitativas_nominal)\n",
    "print(\"Variáveis Qualitativas Ordinal:\", qualitativas_ordinal)\n",
    "print(\"Variáveis Quantitativas Discreta:\", quantitativas_discreta)\n",
    "print(\"Variáveis Quantitativas Contínua:\", quantitativas_continua)"
   ]
  },
  {
   "cell_type": "raw",
   "id": "1a5a5475-3d59-41ad-a709-e3d2afec1822",
   "metadata": {},
   "source": [
    "\n",
    "\n",
    "2) Agrupe as variáveis qualitativas por: estado civil, grau de instrução e região. \n"
   ]
  },
  {
   "cell_type": "code",
   "execution_count": 27,
   "id": "8d011426-ce4f-42b3-b2a7-4f2ee935f016",
   "metadata": {},
   "outputs": [
    {
     "name": "stdout",
     "output_type": "stream",
     "text": [
      "Agrupamento por Estado Civil:\n",
      "  estadocivil  count\n",
      "0      casado     20\n",
      "1    solteiro     16\n",
      "\n",
      "Agrupamento por Grau de Instrução:\n",
      "     Instrucao  count\n",
      "0  fundamental     12\n",
      "1        medio     18\n",
      "2     superior      6\n",
      "\n",
      "Agrupamento por Região:\n",
      "     regiao  count\n",
      "0   capital     11\n",
      "1  interior     12\n",
      "2     outro     13\n"
     ]
    }
   ],
   "source": [
    "# Agrupando por estado civil\n",
    "grupo_estado_civil = df.groupby('estadocivil').size().reset_index(name='count')\n",
    "print(\"Agrupamento por Estado Civil:\")\n",
    "print(grupo_estado_civil)\n",
    "\n",
    "# Agrupando por grau de instrução\n",
    "grupo_grau_instrucao = df.groupby('Instrucao').size().reset_index(name='count')\n",
    "print(\"\\nAgrupamento por Grau de Instrução:\")\n",
    "print(grupo_grau_instrucao)\n",
    "\n",
    "# Agrupando por região\n",
    "grupo_regiao = df.groupby('regiao').size().reset_index(name='count')\n",
    "print(\"\\nAgrupamento por Região:\")\n",
    "print(grupo_regiao)\n"
   ]
  },
  {
   "cell_type": "raw",
   "id": "f55f0d7a-0cac-48ed-9f28-a6ddef2e2c90",
   "metadata": {},
   "source": [
    "\n",
    "\n",
    "3) Agrupe as variáveis por: estado civil e grau de instrução, estado civil e região. \n"
   ]
  },
  {
   "cell_type": "code",
   "execution_count": 29,
   "id": "e387b49e-ffa2-402e-ad9a-2d5103950250",
   "metadata": {},
   "outputs": [
    {
     "name": "stdout",
     "output_type": "stream",
     "text": [
      "Agrupamento por Estado Civil e Grau de Instrução:\n",
      "  estadocivil    Instrucao  count\n",
      "0      casado  fundamental      5\n",
      "1      casado        medio     12\n",
      "2      casado     superior      3\n",
      "3    solteiro  fundamental      7\n",
      "4    solteiro        medio      6\n",
      "5    solteiro     superior      3\n"
     ]
    }
   ],
   "source": [
    "# Agrupando por estado civil e grau de instrução\n",
    "grupo_estado_civil_instrucao = df.groupby(['estadocivil', 'Instrucao']).size().reset_index(name='count')\n",
    "print(\"Agrupamento por Estado Civil e Grau de Instrução:\")\n",
    "print(grupo_estado_civil_instrucao)"
   ]
  },
  {
   "cell_type": "code",
   "execution_count": 31,
   "id": "4037e706-5cd4-4577-bb42-cb122c471865",
   "metadata": {},
   "outputs": [
    {
     "name": "stdout",
     "output_type": "stream",
     "text": [
      "\n",
      "Agrupamento por Estado Civil e Região:\n",
      "  estadocivil    regiao  count\n",
      "0      casado   capital      7\n",
      "1      casado  interior      8\n",
      "2      casado     outro      5\n",
      "3    solteiro   capital      4\n",
      "4    solteiro  interior      4\n",
      "5    solteiro     outro      8\n"
     ]
    }
   ],
   "source": [
    "# Agrupando por estado civil e região\n",
    "grupo_estado_civil_regiao = df.groupby(['estadocivil', 'regiao']).size().reset_index(name='count')\n",
    "print(\"\\nAgrupamento por Estado Civil e Região:\")\n",
    "print(grupo_estado_civil_regiao)"
   ]
  },
  {
   "cell_type": "raw",
   "id": "0b50cc81-6168-46c0-b365-d448050aa253",
   "metadata": {},
   "source": [
    "\n",
    "\n",
    "4) Calcule as medidas de tendência central, separatrizes, variabilidade, assimetria e curtose das variáveis (salário e idade) \n"
   ]
  },
  {
   "cell_type": "code",
   "execution_count": 35,
   "id": "f75627d7-9fcd-4ec9-8cb9-37d942d674ae",
   "metadata": {},
   "outputs": [],
   "source": [
    "# Remover vírgulas e converter para numérico\n",
    "df['salario'] = df['salario'].str.replace(',', '').astype(float)"
   ]
  },
  {
   "cell_type": "code",
   "execution_count": 39,
   "id": "759509cd-3f5c-4ac9-b339-3eb8fe50dbb0",
   "metadata": {},
   "outputs": [
    {
     "name": "stdout",
     "output_type": "stream",
     "text": [
      "Média Salário: 902.97, Média Idade: 34.58\n",
      "Mediana Salário: 884.5, Mediana Idade: 34.5\n",
      "Moda Salário: 4.0, Moda Idade: 26\n",
      "Quartis Salário: 0.25     612.75\n",
      "0.50     884.50\n",
      "0.75    1290.00\n",
      "Name: salario, dtype: float64\n",
      "Quartis Idade: 0.25    30.0\n",
      "0.50    34.5\n",
      "0.75    40.0\n",
      "Name: idade, dtype: float64\n",
      "Variância Salário: 258966.08, Variância Idade: 45.39\n",
      "Desvio Padrão Salário: 508.89, Desvio Padrão Idade: 6.74\n",
      "Amplitude Salário: 1871.0, Amplitude Idade: 28\n",
      "Assimetria Salário: -0.01, Assimetria Idade: -0.07\n",
      "Curtose Salário: -0.7, Curtose Idade: -0.54\n"
     ]
    }
   ],
   "source": [
    "# Média\n",
    "media_salario = round(df['salario'].mean(), 2)\n",
    "media_idade = round(df['idade'].mean(), 2)\n",
    "\n",
    "# Mediana\n",
    "mediana_salario = round(df['salario'].median(), 2)\n",
    "mediana_idade = round(df['idade'].median(), 2)\n",
    "\n",
    "# Moda\n",
    "moda_salario = round(df['salario'].mode()[0], 2)\n",
    "moda_idade = round(df['idade'].mode()[0], 2)\n",
    "\n",
    "print(f\"Média Salário: {media_salario}, Média Idade: {media_idade}\")\n",
    "print(f\"Mediana Salário: {mediana_salario}, Mediana Idade: {mediana_idade}\")\n",
    "print(f\"Moda Salário: {moda_salario}, Moda Idade: {moda_idade}\")\n",
    "\n",
    "# Quartis\n",
    "quartis_salario = df['salario'].quantile([0.25, 0.5, 0.75]).round(2)\n",
    "quartis_idade = df['idade'].quantile([0.25, 0.5, 0.75]).round(2)\n",
    "\n",
    "print(f\"Quartis Salário: {quartis_salario}\")\n",
    "print(f\"Quartis Idade: {quartis_idade}\")\n",
    "\n",
    "# Variância\n",
    "variancia_salario = round(df['salario'].var(), 2)\n",
    "variancia_idade = round(df['idade'].var(), 2)\n",
    "\n",
    "# Desvio Padrão\n",
    "desvio_padrao_salario = round(df['salario'].std(), 2)\n",
    "desvio_padrao_idade = round(df['idade'].std(), 2)\n",
    "\n",
    "# Amplitude\n",
    "amplitude_salario = round(df['salario'].max() - df['salario'].min(), 2)\n",
    "amplitude_idade = round(df['idade'].max() - df['idade'].min(), 2)\n",
    "\n",
    "print(f\"Variância Salário: {variancia_salario}, Variância Idade: {variancia_idade}\")\n",
    "print(f\"Desvio Padrão Salário: {desvio_padrao_salario}, Desvio Padrão Idade: {desvio_padrao_idade}\")\n",
    "print(f\"Amplitude Salário: {amplitude_salario}, Amplitude Idade: {amplitude_idade}\")\n",
    "\n",
    "# Assimetria\n",
    "assimetria_salario = round(df['salario'].skew(), 2)\n",
    "assimetria_idade = round(df['idade'].skew(), 2)\n",
    "\n",
    "# Curtose\n",
    "curtose_salario = round(df['salario'].kurt(), 2)\n",
    "curtose_idade = round(df['idade'].kurt(), 2)\n",
    "\n",
    "print(f\"Assimetria Salário: {assimetria_salario}, Assimetria Idade: {assimetria_idade}\")\n",
    "print(f\"Curtose Salário: {curtose_salario}, Curtose Idade: {curtose_idade}\")\n",
    "\n"
   ]
  },
  {
   "cell_type": "raw",
   "id": "1aa0c22d-a81f-4cfd-8465-9772d82e6894",
   "metadata": {},
   "source": [
    "\n",
    "\n",
    "5) Faça toda as tabelas de frequências dos itens anteriores \n"
   ]
  },
  {
   "cell_type": "code",
   "execution_count": 43,
   "id": "889ae6ea-b86e-4503-a256-a57520b3e4c1",
   "metadata": {},
   "outputs": [
    {
     "name": "stdout",
     "output_type": "stream",
     "text": [
      "Frequência - Estado Civil:\n",
      "  Estado Civil  Frequência\n",
      "0       casado          20\n",
      "1     solteiro          16\n",
      "\n",
      "Frequência - Grau de Instrução:\n",
      "  Grau de Instrução  Frequência\n",
      "0             medio          18\n",
      "1       fundamental          12\n",
      "2          superior           6\n",
      "\n",
      "Frequência - Região:\n",
      "     Região  Frequência\n",
      "0     outro          13\n",
      "1  interior          12\n",
      "2   capital          11\n"
     ]
    }
   ],
   "source": [
    "# Estado Civil\n",
    "freq_estado_civil = df['estadocivil'].value_counts().reset_index()\n",
    "freq_estado_civil.columns = ['Estado Civil', 'Frequência']\n",
    "print(\"Frequência - Estado Civil:\")\n",
    "print(freq_estado_civil)\n",
    "\n",
    "# Grau de Instrução\n",
    "freq_grau_instrucao = df['Instrucao'].value_counts().reset_index()\n",
    "freq_grau_instrucao.columns = ['Grau de Instrução', 'Frequência']\n",
    "print(\"\\nFrequência - Grau de Instrução:\")\n",
    "print(freq_grau_instrucao)\n",
    "\n",
    "# Região\n",
    "freq_regiao = df['regiao'].value_counts().reset_index()\n",
    "freq_regiao.columns = ['Região', 'Frequência']\n",
    "print(\"\\nFrequência - Região:\")\n",
    "print(freq_regiao)\n"
   ]
  },
  {
   "cell_type": "code",
   "execution_count": null,
   "id": "062aeb12-f0c8-4114-9e53-9b668a5f89f4",
   "metadata": {},
   "outputs": [],
   "source": []
  }
 ],
 "metadata": {
  "kernelspec": {
   "display_name": "Python 3 (ipykernel)",
   "language": "python",
   "name": "python3"
  },
  "language_info": {
   "codemirror_mode": {
    "name": "ipython",
    "version": 3
   },
   "file_extension": ".py",
   "mimetype": "text/x-python",
   "name": "python",
   "nbconvert_exporter": "python",
   "pygments_lexer": "ipython3",
   "version": "3.12.4"
  }
 },
 "nbformat": 4,
 "nbformat_minor": 5
}
